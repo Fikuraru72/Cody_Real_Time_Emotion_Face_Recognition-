{
 "cells": [
  {
   "cell_type": "code",
   "execution_count": 1,
   "metadata": {},
   "outputs": [],
   "source": [
    "import os\n",
    "import cv2\n",
    "import shutil\n",
    "from tqdm import tqdm"
   ]
  },
  {
   "cell_type": "code",
   "execution_count": 2,
   "metadata": {},
   "outputs": [],
   "source": [
    "def detect_faces(image_path, face_cascade):\n",
    "    \"\"\"Deteksi wajah dalam gambar.\"\"\"\n",
    "    image = cv2.imread(image_path)\n",
    "    if image is None:\n",
    "        return False\n",
    "    gray = cv2.cvtColor(image, cv2.COLOR_BGR2GRAY)\n",
    "    faces = face_cascade.detectMultiScale(gray, scaleFactor=1.1, minNeighbors=5, minSize=(30, 30))\n",
    "    return len(faces) > 0"
   ]
  },
  {
   "cell_type": "code",
   "execution_count": 3,
   "metadata": {},
   "outputs": [],
   "source": [
    "def clean_dataset(input_dir, output_dir, cascade_path):\n",
    "    \"\"\"Membersihkan dataset dengan mendeteksi wajah.\"\"\"\n",
    "    if not os.path.exists(output_dir):\n",
    "        os.makedirs(output_dir)\n",
    "\n",
    "    face_cascade = cv2.CascadeClassifier(cascade_path)\n",
    "\n",
    "    for subset in ['train', 'test']:\n",
    "        subset_input_path = os.path.join(input_dir, subset)\n",
    "        subset_output_path = os.path.join(output_dir, subset)\n",
    "\n",
    "        if not os.path.exists(subset_output_path):\n",
    "            os.makedirs(subset_output_path)\n",
    "\n",
    "        for emotion in os.listdir(subset_input_path):\n",
    "            emotion_input_path = os.path.join(subset_input_path, emotion)\n",
    "            emotion_output_path = os.path.join(subset_output_path, emotion)\n",
    "\n",
    "            if not os.path.exists(emotion_output_path):\n",
    "                os.makedirs(emotion_output_path)\n",
    "\n",
    "            for img_name in tqdm(os.listdir(emotion_input_path), desc=f\"Processing {subset}/{emotion}\"):\n",
    "                img_path = os.path.join(emotion_input_path, img_name)\n",
    "\n",
    "                # Hanya simpan gambar yang terdeteksi wajahnya\n",
    "                if detect_faces(img_path, face_cascade):\n",
    "                    shutil.copy(img_path, os.path.join(emotion_output_path, img_name))\n"
   ]
  },
  {
   "cell_type": "code",
   "execution_count": 4,
   "metadata": {},
   "outputs": [],
   "source": [
    "# Path ke dataset\n",
    "input_directory = \"fer-2013\"  # Ganti dengan path dataset Anda\n",
    "output_directory = \"dataset\"  # Ganti dengan path untuk dataset bersih"
   ]
  },
  {
   "cell_type": "code",
   "execution_count": 5,
   "metadata": {},
   "outputs": [],
   "source": [
    "# Path ke file haarcascade untuk deteksi wajah\n",
    "cascade_file_path = cv2.data.haarcascades + \"haarcascade_frontalface_default.xml\"\n"
   ]
  },
  {
   "cell_type": "code",
   "execution_count": 7,
   "metadata": {},
   "outputs": [
    {
     "name": "stderr",
     "output_type": "stream",
     "text": [
      "Processing train/angry: 100%|██████████| 3995/3995 [00:28<00:00, 140.86it/s]\n",
      "Processing train/disgust: 100%|██████████| 436/436 [00:03<00:00, 142.70it/s]\n",
      "Processing train/fear: 100%|██████████| 4097/4097 [00:33<00:00, 123.30it/s]\n",
      "Processing train/happy: 100%|██████████| 7215/7215 [01:08<00:00, 104.77it/s]\n",
      "Processing train/neutral: 100%|██████████| 4965/4965 [00:46<00:00, 107.39it/s]\n",
      "Processing train/sad: 100%|██████████| 4830/4830 [00:36<00:00, 132.50it/s]\n",
      "Processing train/surprise: 100%|██████████| 3171/3171 [00:23<00:00, 136.55it/s]\n",
      "Processing test/angry: 100%|██████████| 958/958 [00:07<00:00, 131.57it/s]\n",
      "Processing test/disgust: 100%|██████████| 111/111 [00:00<00:00, 133.57it/s]\n",
      "Processing test/fear: 100%|██████████| 1024/1024 [00:07<00:00, 128.80it/s]\n",
      "Processing test/happy: 100%|██████████| 1774/1774 [00:15<00:00, 113.54it/s]\n",
      "Processing test/neutral: 100%|██████████| 1233/1233 [00:09<00:00, 125.94it/s]\n",
      "Processing test/sad: 100%|██████████| 1247/1247 [00:08<00:00, 153.81it/s]\n",
      "Processing test/surprise: 100%|██████████| 831/831 [00:06<00:00, 134.41it/s]\n"
     ]
    }
   ],
   "source": [
    "# Membersihkan dataset\n",
    "clean_dataset(input_directory, output_directory, cascade_file_path)"
   ]
  },
  {
   "cell_type": "code",
   "execution_count": 8,
   "metadata": {},
   "outputs": [],
   "source": [
    "# Path ke dataset\n",
    "input_directory = \"fer2013-2\"  # Ganti dengan path dataset Anda\n",
    "output_directory = \"dataset2\"  # Ganti dengan path untuk dataset bersih"
   ]
  },
  {
   "cell_type": "code",
   "execution_count": 9,
   "metadata": {},
   "outputs": [
    {
     "name": "stderr",
     "output_type": "stream",
     "text": [
      "Processing train/angry: 100%|██████████| 3994/3994 [00:30<00:00, 131.95it/s]\n",
      "Processing train/disgusted: 100%|██████████| 436/436 [00:03<00:00, 143.01it/s]\n",
      "Processing train/fearful: 100%|██████████| 4097/4097 [00:30<00:00, 134.66it/s]\n",
      "Processing train/happy: 100%|██████████| 7215/7215 [00:55<00:00, 129.85it/s]\n",
      "Processing train/neutral: 100%|██████████| 4965/4965 [00:40<00:00, 123.51it/s]\n",
      "Processing train/sad: 100%|██████████| 4830/4830 [00:36<00:00, 134.10it/s]\n",
      "Processing train/surprised: 100%|██████████| 3171/3171 [00:24<00:00, 129.70it/s]\n",
      "Processing test/angry: 100%|██████████| 958/958 [00:08<00:00, 109.78it/s]\n",
      "Processing test/disgusted: 100%|██████████| 111/111 [00:01<00:00, 106.65it/s]\n",
      "Processing test/fearful: 100%|██████████| 1024/1024 [00:09<00:00, 106.08it/s]\n",
      "Processing test/happy: 100%|██████████| 1774/1774 [00:14<00:00, 125.22it/s]\n",
      "Processing test/neutral: 100%|██████████| 1233/1233 [00:09<00:00, 130.32it/s]\n",
      "Processing test/sad: 100%|██████████| 1247/1247 [00:09<00:00, 134.05it/s]\n",
      "Processing test/surprised: 100%|██████████| 831/831 [00:06<00:00, 138.05it/s]\n"
     ]
    }
   ],
   "source": [
    "clean_dataset(input_directory, output_directory, cascade_file_path)"
   ]
  }
 ],
 "metadata": {
  "kernelspec": {
   "display_name": "base",
   "language": "python",
   "name": "python3"
  },
  "language_info": {
   "codemirror_mode": {
    "name": "ipython",
    "version": 3
   },
   "file_extension": ".py",
   "mimetype": "text/x-python",
   "name": "python",
   "nbconvert_exporter": "python",
   "pygments_lexer": "ipython3",
   "version": "3.12.4"
  }
 },
 "nbformat": 4,
 "nbformat_minor": 2
}
